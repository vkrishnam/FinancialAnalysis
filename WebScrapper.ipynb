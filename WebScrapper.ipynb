{
 "cells": [
  {
   "cell_type": "code",
   "execution_count": 1,
   "metadata": {},
   "outputs": [
    {
     "name": "stdout",
     "output_type": "stream",
     "text": [
      "['/home/vkrishnam/Finance/FinTech/FinancialAnalysis', '/home/vkrishnam/anaconda3/envs/fintech/lib/python38.zip', '/home/vkrishnam/anaconda3/envs/fintech/lib/python3.8', '/home/vkrishnam/anaconda3/envs/fintech/lib/python3.8/lib-dynload', '', '/home/vkrishnam/anaconda3/envs/fintech/lib/python3.8/site-packages', '/home/vkrishnam/anaconda3/envs/fintech/lib/python3.8/site-packages/IPython/extensions', '/home/vkrishnam/.ipython']\n"
     ]
    }
   ],
   "source": [
    "import sys\n",
    "print(sys.path)"
   ]
  },
  {
   "cell_type": "code",
   "execution_count": 2,
   "metadata": {},
   "outputs": [
    {
     "name": "stdout",
     "output_type": "stream",
     "text": [
      "Requirement already satisfied: bs4 in /home/vkrishnam/anaconda3/envs/fintech/lib/python3.8/site-packages (0.0.1)\n",
      "Requirement already satisfied: beautifulsoup4 in /home/vkrishnam/anaconda3/envs/fintech/lib/python3.8/site-packages (from bs4) (4.9.3)\n",
      "Requirement already satisfied: soupsieve>1.2; python_version >= \"3.0\" in /home/vkrishnam/anaconda3/envs/fintech/lib/python3.8/site-packages (from beautifulsoup4->bs4) (2.0.1)\n",
      "Requirement already satisfied: BeautifulSoup4 in /home/vkrishnam/anaconda3/envs/fintech/lib/python3.8/site-packages (4.9.3)\n",
      "Requirement already satisfied: soupsieve>1.2; python_version >= \"3.0\" in /home/vkrishnam/anaconda3/envs/fintech/lib/python3.8/site-packages (from BeautifulSoup4) (2.0.1)\n",
      "Requirement already satisfied: fastnumbers in /home/vkrishnam/anaconda3/envs/fintech/lib/python3.8/site-packages (3.0.0)\n"
     ]
    }
   ],
   "source": [
    "!pip install bs4\n",
    "!pip install BeautifulSoup4\n",
    "!pip install fastnumbers"
   ]
  },
  {
   "cell_type": "code",
   "execution_count": 3,
   "metadata": {},
   "outputs": [],
   "source": [
    "#import bs4\n",
    "#import BeautifulSoup4 # for html parsing and scraping\n",
    "#import beautifulsoup4\n",
    "import fastnumbers"
   ]
  },
  {
   "cell_type": "code",
   "execution_count": 4,
   "metadata": {},
   "outputs": [],
   "source": [
    "import numpy as np # linear algebra\n",
    "import pandas as pd # pandas for dataframe based data processing and CSV file I/O"
   ]
  },
  {
   "cell_type": "code",
   "execution_count": 5,
   "metadata": {},
   "outputs": [],
   "source": [
    "import requests # for http requests\n",
    "from bs4 import BeautifulSoup # for html parsing and scraping\n",
    "from fastnumbers import isfloat \n",
    "from fastnumbers import fast_float\n",
    "from multiprocessing.dummy import Pool as ThreadPool \n",
    "import bs4\n",
    "\n",
    "import matplotlib.pyplot as plt\n",
    "import seaborn as sns\n",
    "import json\n",
    "from tidylib import tidy_document # for tidying incorrect html\n",
    "\n",
    "sns.set_style('whitegrid')\n",
    "%matplotlib inline\n",
    "from IPython.core.interactiveshell import InteractiveShell\n",
    "InteractiveShell.ast_node_interactivity = \"all\""
   ]
  },
  {
   "cell_type": "code",
   "execution_count": 6,
   "metadata": {},
   "outputs": [],
   "source": [
    "\n",
    "\n",
    "def ffloat(string):\n",
    "    if string is None:\n",
    "        return np.nan\n",
    "    if type(string)==float or type(string)==np.float64:\n",
    "        return string\n",
    "    if type(string)==int or type(string)==np.int64:\n",
    "        return string\n",
    "    return fast_float(string.split(\" \")[0].replace(',','').replace('%',''),\n",
    "                      default=np.nan)\n",
    "\n",
    "def ffloat_list(string_list):\n",
    "    return list(map(ffloat,string_list))\n",
    "\n",
    "def remove_multiple_spaces(string):\n",
    "    if type(string)==str:\n",
    "        return ' '.join(string.split())\n",
    "    return string\n",
    "\n"
   ]
  },
  {
   "cell_type": "code",
   "execution_count": 7,
   "metadata": {},
   "outputs": [
    {
     "data": {
      "text/plain": [
       "200"
      ]
     },
     "execution_count": 7,
     "metadata": {},
     "output_type": "execute_result"
    },
    {
     "data": {
      "text/plain": [
       "b'<!doctype html>\\n<html>\\n<head>\\n    <title>Example Domain</title>\\n\\n    <meta charset=\"utf-8\" />\\n    <meta http-equiv=\"Content-type\" content=\"text/html; charset=utf-8\" />\\n    <meta name=\"viewport\" content=\"width=device-width, initial-scale=1\" />\\n    <style type=\"text/css\">\\n    body {\\n        background-color: #f0f0f2;\\n        margin: 0;\\n        padding: 0;\\n        font-family: -apple-system, system-ui, BlinkMacSystemFont, \"Segoe UI\", \"Open Sans\", \"Helvetica Neue\", Helvetica, Arial, sans-serif;\\n        \\n    }\\n    div {\\n        width: 600px;\\n        margin: 5em auto;\\n        padding: 2em;\\n        background-color: #fdfdff;\\n        border-radius: 0.5em;\\n        box-shadow: 2px 3px 7px 2px rgba(0,0,0,0.02);\\n    }\\n    a:link, a:visited {\\n        color: #38488f;\\n        text-decoration: none;\\n    }\\n    @media (max-width: 700px) {\\n        div {\\n            margin: 0 auto;\\n            width: auto;\\n        }\\n    }\\n    </style>    \\n</head>\\n\\n<body>\\n<div>\\n    <h1>Example Domain</h1>\\n    <p>This domain is for use in illustrative examples in documents. You may use this\\n    domain in literature without prior coordination or asking for permission.</p>\\n    <p><a href=\"https://www.iana.org/domains/example\">More information...</a></p>\\n</div>\\n</body>\\n</html>\\n'"
      ]
     },
     "execution_count": 7,
     "metadata": {},
     "output_type": "execute_result"
    }
   ],
   "source": [
    "response = requests.get(\"http://www.example.com/\", timeout=240)\n",
    "response.status_code\n",
    "response.content"
   ]
  },
  {
   "cell_type": "code",
   "execution_count": 8,
   "metadata": {},
   "outputs": [
    {
     "data": {
      "text/plain": [
       "200"
      ]
     },
     "execution_count": 8,
     "metadata": {},
     "output_type": "execute_result"
    },
    {
     "data": {
      "text/plain": [
       "{'userId': 1,\n",
       " 'id': 1,\n",
       " 'title': 'sunt aut facere repellat provident occaecati excepturi optio reprehenderit',\n",
       " 'body': 'quia et suscipit\\nsuscipit recusandae consequuntur expedita et cum\\nreprehenderit molestiae ut ut quas totam\\nnostrum rerum est autem sunt rem eveniet architecto'}"
      ]
     },
     "execution_count": 8,
     "metadata": {},
     "output_type": "execute_result"
    },
    {
     "data": {
      "text/plain": [
       "dict_keys(['userId', 'id', 'title', 'body'])"
      ]
     },
     "execution_count": 8,
     "metadata": {},
     "output_type": "execute_result"
    }
   ],
   "source": [
    "\n",
    "\n",
    "url = \"https://jsonplaceholder.typicode.com/posts/1\"\n",
    "response = requests.get(url, timeout=240)\n",
    "response.status_code\n",
    "response.json()\n",
    "\n",
    "content = response.json()\n",
    "content.keys()\n",
    "\n"
   ]
  },
  {
   "cell_type": "code",
   "execution_count": 9,
   "metadata": {},
   "outputs": [],
   "source": [
    "def request_with_check(url):\n",
    "    page_response = requests.get(url, timeout=240)\n",
    "    status = page_response.status_code\n",
    "    if status>299:\n",
    "        raise AssertionError(\"page content not found, status: %s\"%status)\n",
    "    return page_response"
   ]
  },
  {
   "cell_type": "code",
   "execution_count": 10,
   "metadata": {},
   "outputs": [
    {
     "ename": "AssertionError",
     "evalue": "page content not found, status: 404",
     "output_type": "error",
     "traceback": [
      "\u001b[0;31m---------------------------------------------------------------------------\u001b[0m",
      "\u001b[0;31mAssertionError\u001b[0m                            Traceback (most recent call last)",
      "\u001b[0;32m<ipython-input-10-ddbcc6b61f74>\u001b[0m in \u001b[0;36m<module>\u001b[0;34m\u001b[0m\n\u001b[0;32m----> 1\u001b[0;31m \u001b[0mrequest_with_check\u001b[0m\u001b[0;34m(\u001b[0m\u001b[0;34m\"https://www.google.co.in/mycustom404page\"\u001b[0m\u001b[0;34m)\u001b[0m\u001b[0;34m\u001b[0m\u001b[0;34m\u001b[0m\u001b[0m\n\u001b[0m",
      "\u001b[0;32m<ipython-input-9-00aceb51cc5b>\u001b[0m in \u001b[0;36mrequest_with_check\u001b[0;34m(url)\u001b[0m\n\u001b[1;32m      3\u001b[0m     \u001b[0mstatus\u001b[0m \u001b[0;34m=\u001b[0m \u001b[0mpage_response\u001b[0m\u001b[0;34m.\u001b[0m\u001b[0mstatus_code\u001b[0m\u001b[0;34m\u001b[0m\u001b[0;34m\u001b[0m\u001b[0m\n\u001b[1;32m      4\u001b[0m     \u001b[0;32mif\u001b[0m \u001b[0mstatus\u001b[0m\u001b[0;34m>\u001b[0m\u001b[0;36m299\u001b[0m\u001b[0;34m:\u001b[0m\u001b[0;34m\u001b[0m\u001b[0;34m\u001b[0m\u001b[0m\n\u001b[0;32m----> 5\u001b[0;31m         \u001b[0;32mraise\u001b[0m \u001b[0mAssertionError\u001b[0m\u001b[0;34m(\u001b[0m\u001b[0;34m\"page content not found, status: %s\"\u001b[0m\u001b[0;34m%\u001b[0m\u001b[0mstatus\u001b[0m\u001b[0;34m)\u001b[0m\u001b[0;34m\u001b[0m\u001b[0;34m\u001b[0m\u001b[0m\n\u001b[0m\u001b[1;32m      6\u001b[0m     \u001b[0;32mreturn\u001b[0m \u001b[0mpage_response\u001b[0m\u001b[0;34m\u001b[0m\u001b[0;34m\u001b[0m\u001b[0m\n",
      "\u001b[0;31mAssertionError\u001b[0m: page content not found, status: 404"
     ]
    }
   ],
   "source": [
    "request_with_check(\"https://www.google.co.in/mycustom404page\")"
   ]
  },
  {
   "cell_type": "code",
   "execution_count": 11,
   "metadata": {},
   "outputs": [
    {
     "data": {
      "text/plain": [
       "<Response [200]>"
      ]
     },
     "execution_count": 11,
     "metadata": {},
     "output_type": "execute_result"
    }
   ],
   "source": [
    "request_with_check(\"https://www.google.co.in/\")"
   ]
  },
  {
   "cell_type": "code",
   "execution_count": 12,
   "metadata": {},
   "outputs": [
    {
     "data": {
      "text/html": [
       "<b>Rendered HTML</b>"
      ],
      "text/plain": [
       "<IPython.core.display.HTML object>"
      ]
     },
     "execution_count": 12,
     "metadata": {},
     "output_type": "execute_result"
    }
   ],
   "source": [
    "from IPython.core.display import HTML\n",
    "HTML(\"<b>Rendered HTML</b>\")"
   ]
  },
  {
   "cell_type": "code",
   "execution_count": 13,
   "metadata": {},
   "outputs": [
    {
     "data": {
      "text/html": [
       "<h1 class=\"pcstname\">Hero Motocorp Ltd.</h1>"
      ],
      "text/plain": [
       "<IPython.core.display.HTML object>"
      ]
     },
     "execution_count": 13,
     "metadata": {},
     "output_type": "execute_result"
    }
   ],
   "source": [
    "page_response = requests.get(\"https://www.moneycontrol.com/india/stockpricequote/auto-2-3-wheelers/heromotocorp/HHM\", timeout=240)\n",
    "page_content = BeautifulSoup(page_response.content, \"html.parser\")\n",
    "HTML(str(page_content.find(\"h1\")))\n",
    "\n",
    "#HTML(str(page_content.find(\"div\",attrs={'id':\"content_full\"})))"
   ]
  },
  {
   "cell_type": "code",
   "execution_count": 14,
   "metadata": {},
   "outputs": [
    {
     "data": {
      "text/html": [
       "<h1 class=\"margin-0\">Infosys Ltd</h1>"
      ],
      "text/plain": [
       "<IPython.core.display.HTML object>"
      ]
     },
     "execution_count": 14,
     "metadata": {},
     "output_type": "execute_result"
    },
    {
     "name": "stdout",
     "output_type": "stream",
     "text": [
      "478,129\n",
      "478,129 Cr.\n"
     ]
    }
   ],
   "source": [
    "page_response = requests.get(\"https://www.screener.in/company/INFY/\", timeout=240)\n",
    "page_content = BeautifulSoup(page_response.content, \"html.parser\")\n",
    "HTML(str(page_content.find(\"h1\")))\n",
    "#print(page_content)\n",
    "\n",
    "#HTML(str(page_content.find(\"div\",attrs={'class':\"company-profile-about\"}).find(\"p\")))\n",
    "#print(str(page_content.find(\"p\",attrs={'class':\"sub bigger\"})))\n",
    "#HTML(str(page_content.find(\"li\",attrs={'class':\"four columns\"})))\n",
    "#print(str(page_content.find(\"li\",attrs={'class':\"four columns\"})))\n",
    "market_cap_info = page_content.find(\"div\",attrs={'class':\"company-ratios\"}).find(\"span\",attrs={'class':\"nowrap value\"})#.find(\"span\",attrs={'class':\"number\"})\n",
    "print(market_cap_info.find(\"span\").string)\n",
    "\n",
    "#print(str(market_cap_info))\n",
    "#print(str(market_cap_info.find(\"span\")))\n",
    "\n",
    "#targetFile = open('page_content.txt', 'w')\n",
    "#targetFile.write(str(page_content))\n",
    "\n",
    "#ratios_section = page_content.find(\"section\",attrs={'id':\"ratios\"})\n",
    "#print(ratios_section.h2)\n",
    "\n",
    "\n",
    "tag_str = str(page_content.find(\"li\",attrs={'class':\"flex flex-space-between\"}))\n",
    "if \"Market Cap\" in tag_str:\n",
    "    marcap = BeautifulSoup(tag_str)\n",
    "    print(str(marcap.find(\"span\",attrs={'class':\"number\"}).string) + \" Cr.\")\n",
    "else:\n",
    "    print(\"hello\")"
   ]
  },
  {
   "cell_type": "code",
   "execution_count": 15,
   "metadata": {},
   "outputs": [],
   "source": [
    "#print(page_content)\n",
    "def findFullDescription_Screener(page_content):\n",
    "    tag = page_content.find(\"div\",attrs={'class':\"company-profile-about\"}).find(\"p\")\n",
    "    return tag.string\n",
    "\n",
    "def findMarketCap_Screener(page_content):\n",
    "    tag_str = str(page_content.find(\"li\",attrs={'class':\"flex flex-space-between\"}))\n",
    "    if \"Market Cap\" in tag_str:\n",
    "        marcap = BeautifulSoup(tag_str)\n",
    "        return (str(marcap.find(\"span\",attrs={'class':\"number\"}).string) + \" Cr.\")\n",
    "    else:\n",
    "        return \"O Cr.\"\n",
    "\n"
   ]
  },
  {
   "cell_type": "code",
   "execution_count": 16,
   "metadata": {},
   "outputs": [
    {
     "name": "stdout",
     "output_type": "stream",
     "text": [
      "Infosys (the Company or Infosys) is a leading provider of consulting, technology, outsourcing and next-generation digital services, enabling clients to execute strategies for their digital transformation. Infosys strategic objective is to build a sustainable organization that remains relevant to the agenda of clients, while creating growth opportunities for employees and generating profitable returns for investors. Infosys strategy is to be a navigator for our clients as they ideate, plan and execute on their journey to a digital future.\n",
      "478,129 Cr.\n"
     ]
    },
    {
     "data": {
      "text/plain": [
       "[['Dec 2017',\n",
       "  'Mar 2018',\n",
       "  'Jun 2018',\n",
       "  'Sep 2018',\n",
       "  'Dec 2018',\n",
       "  'Mar 2019',\n",
       "  'Jun 2019',\n",
       "  'Sep 2019',\n",
       "  'Dec 2019',\n",
       "  'Mar 2020',\n",
       "  'Jun 2020',\n",
       "  'Sep 2020'],\n",
       " ['Sales +',\n",
       "  '15631',\n",
       "  '15984',\n",
       "  '17056',\n",
       "  '18297',\n",
       "  '18819',\n",
       "  '18935',\n",
       "  '19131',\n",
       "  '19666',\n",
       "  '20064',\n",
       "  '20187',\n",
       "  '20325',\n",
       "  '21046'],\n",
       " ['Expenses +',\n",
       "  '11166',\n",
       "  '11867',\n",
       "  '12616',\n",
       "  '13398',\n",
       "  '14227',\n",
       "  '14192',\n",
       "  '14486',\n",
       "  '14577',\n",
       "  '14885',\n",
       "  '15065',\n",
       "  '14848',\n",
       "  '14826'],\n",
       " ['Operating Profit',\n",
       "  '4465',\n",
       "  '4117',\n",
       "  '4440',\n",
       "  '4899',\n",
       "  '4592',\n",
       "  '4743',\n",
       "  '4645',\n",
       "  '5089',\n",
       "  '5179',\n",
       "  '5122',\n",
       "  '5477',\n",
       "  '6220'],\n",
       " ['OPM %',\n",
       "  '29%',\n",
       "  '26%',\n",
       "  '26%',\n",
       "  '27%',\n",
       "  '24%',\n",
       "  '25%',\n",
       "  '24%',\n",
       "  '26%',\n",
       "  '26%',\n",
       "  '25%',\n",
       "  '27%',\n",
       "  '30%'],\n",
       " ['Other Income',\n",
       "  '1811',\n",
       "  '636',\n",
       "  '716',\n",
       "  '742',\n",
       "  '756',\n",
       "  '639',\n",
       "  '713',\n",
       "  '604',\n",
       "  '798',\n",
       "  '585',\n",
       "  '478',\n",
       "  '582'],\n",
       " ['Interest',\n",
       "  '0',\n",
       "  '0',\n",
       "  '0',\n",
       "  '0',\n",
       "  '0',\n",
       "  '0',\n",
       "  '27',\n",
       "  '28',\n",
       "  '28',\n",
       "  '31',\n",
       "  '31',\n",
       "  '31'],\n",
       " ['Depreciation',\n",
       "  '354',\n",
       "  '363',\n",
       "  '374',\n",
       "  '390',\n",
       "  '406',\n",
       "  '429',\n",
       "  '510',\n",
       "  '542',\n",
       "  '544',\n",
       "  '548',\n",
       "  '546',\n",
       "  '608'],\n",
       " ['Profit before tax',\n",
       "  '5922',\n",
       "  '4390',\n",
       "  '4782',\n",
       "  '5251',\n",
       "  '4942',\n",
       "  '4953',\n",
       "  '4821',\n",
       "  '5123',\n",
       "  '5405',\n",
       "  '5128',\n",
       "  '5378',\n",
       "  '6163'],\n",
       " ['Tax %',\n",
       "  '-1%',\n",
       "  '28%',\n",
       "  '27%',\n",
       "  '26%',\n",
       "  '29%',\n",
       "  '23%',\n",
       "  '26%',\n",
       "  '25%',\n",
       "  '25%',\n",
       "  '21%',\n",
       "  '25%',\n",
       "  '27%'],\n",
       " ['Net Profit',\n",
       "  '6004',\n",
       "  '3157',\n",
       "  '3503',\n",
       "  '3879',\n",
       "  '3501',\n",
       "  '3820',\n",
       "  '3569',\n",
       "  '3829',\n",
       "  '4076',\n",
       "  '4069',\n",
       "  '4008',\n",
       "  '4497'],\n",
       " ['EPS in Rs',\n",
       "  '13.75',\n",
       "  '7.23',\n",
       "  '8.02',\n",
       "  '8.88',\n",
       "  '8.01',\n",
       "  '8.74',\n",
       "  '8.17',\n",
       "  '8.99',\n",
       "  '9.57',\n",
       "  '9.55',\n",
       "  '9.41',\n",
       "  '10.56'],\n",
       " ['Notes',\n",
       "  'Notes',\n",
       "  'Notes',\n",
       "  'Notes',\n",
       "  'Notes',\n",
       "  'Notes',\n",
       "  'Notes',\n",
       "  'Notes',\n",
       "  'Notes',\n",
       "  'Notes',\n",
       "  'Notes',\n",
       "  'Notes']]"
      ]
     },
     "execution_count": 16,
     "metadata": {},
     "output_type": "execute_result"
    }
   ],
   "source": [
    "def get_table_simple(table,is_table_tag=True):\n",
    "    elems = table.find_all('tr') if is_table_tag else get_children(table)\n",
    "    table_data = list()\n",
    "    for row in elems:\n",
    "        \n",
    "        row_data = list()\n",
    "        row_elems = get_children(row)\n",
    "        for elem in row_elems:\n",
    "            text = elem.text.strip().replace(\"\\n\",\"\").replace(\",\",\"\")\n",
    "            text = remove_multiple_spaces(text)\n",
    "            if len(text)==0:\n",
    "                continue\n",
    "            row_data.append(text)\n",
    "        table_data.append(row_data)\n",
    "    return table_data\n",
    "    \n",
    "def get_children(html_content):\n",
    "    children = list()\n",
    "    for item in html_content.children:\n",
    "        if type(item)==bs4.element.Comment:\n",
    "            continue\n",
    "        if type(item)==bs4.element.Tag or len(str(item).replace(\"\\n\",\"\").strip())>0:\n",
    "            children.append(item)\n",
    "        \n",
    "    return children\n",
    "\n",
    "print(findFullDescription_Screener(page_content))\n",
    "print(findMarketCap_Screener(page_content))\n",
    "#print(page_content)\n",
    "ratios_section = page_content.find(\"section\",attrs={'id':\"ratios\"})\n",
    "ratios_table = page_content.find(\"table\",attrs={'class':\"data-table\"})\n",
    "get_table_simple(ratios_table, is_table_tag=True)"
   ]
  },
  {
   "cell_type": "code",
   "execution_count": 17,
   "metadata": {},
   "outputs": [
    {
     "data": {
      "text/html": [
       "\n",
       "<table>\n",
       "    <tr>\n",
       "        <td>Month</td>\n",
       "        <td>Price</td>\n",
       "    </tr>\n",
       "    <tr>\n",
       "        <td>July</td>\n",
       "        <td>2</td>\n",
       "    </tr>\n",
       "    <tr>\n",
       "        <td>August</td>\n",
       "        <td>4</td>\n",
       "    </tr>\n",
       "    <tr>\n",
       "        <td>September</td>\n",
       "        <td>3</td>\n",
       "    </tr>\n",
       "    <tr>\n",
       "        <td>October</td>\n",
       "        <td>2</td>\n",
       "    </tr>\n",
       "</table>\n"
      ],
      "text/plain": [
       "<IPython.core.display.HTML object>"
      ]
     },
     "execution_count": 17,
     "metadata": {},
     "output_type": "execute_result"
    }
   ],
   "source": [
    "html = '''\n",
    "<table>\n",
    "    <tr>\n",
    "        <td>Month</td>\n",
    "        <td>Price</td>\n",
    "    </tr>\n",
    "    <tr>\n",
    "        <td>July</td>\n",
    "        <td>2</td>\n",
    "    </tr>\n",
    "    <tr>\n",
    "        <td>August</td>\n",
    "        <td>4</td>\n",
    "    </tr>\n",
    "    <tr>\n",
    "        <td>September</td>\n",
    "        <td>3</td>\n",
    "    </tr>\n",
    "    <tr>\n",
    "        <td>October</td>\n",
    "        <td>2</td>\n",
    "    </tr>\n",
    "</table>\n",
    "'''\n",
    "HTML(html)"
   ]
  },
  {
   "cell_type": "code",
   "execution_count": 18,
   "metadata": {},
   "outputs": [
    {
     "data": {
      "text/plain": [
       "[['Dec 2017',\n",
       "  'Mar 2018',\n",
       "  'Jun 2018',\n",
       "  'Sep 2018',\n",
       "  'Dec 2018',\n",
       "  'Mar 2019',\n",
       "  'Jun 2019',\n",
       "  'Sep 2019',\n",
       "  'Dec 2019',\n",
       "  'Mar 2020',\n",
       "  'Jun 2020',\n",
       "  'Sep 2020'],\n",
       " ['Sales +',\n",
       "  '15631',\n",
       "  '15984',\n",
       "  '17056',\n",
       "  '18297',\n",
       "  '18819',\n",
       "  '18935',\n",
       "  '19131',\n",
       "  '19666',\n",
       "  '20064',\n",
       "  '20187',\n",
       "  '20325',\n",
       "  '21046'],\n",
       " ['Expenses +',\n",
       "  '11166',\n",
       "  '11867',\n",
       "  '12616',\n",
       "  '13398',\n",
       "  '14227',\n",
       "  '14192',\n",
       "  '14486',\n",
       "  '14577',\n",
       "  '14885',\n",
       "  '15065',\n",
       "  '14848',\n",
       "  '14826'],\n",
       " ['Operating Profit',\n",
       "  '4465',\n",
       "  '4117',\n",
       "  '4440',\n",
       "  '4899',\n",
       "  '4592',\n",
       "  '4743',\n",
       "  '4645',\n",
       "  '5089',\n",
       "  '5179',\n",
       "  '5122',\n",
       "  '5477',\n",
       "  '6220'],\n",
       " ['OPM %',\n",
       "  '29%',\n",
       "  '26%',\n",
       "  '26%',\n",
       "  '27%',\n",
       "  '24%',\n",
       "  '25%',\n",
       "  '24%',\n",
       "  '26%',\n",
       "  '26%',\n",
       "  '25%',\n",
       "  '27%',\n",
       "  '30%'],\n",
       " ['Other Income',\n",
       "  '1811',\n",
       "  '636',\n",
       "  '716',\n",
       "  '742',\n",
       "  '756',\n",
       "  '639',\n",
       "  '713',\n",
       "  '604',\n",
       "  '798',\n",
       "  '585',\n",
       "  '478',\n",
       "  '582'],\n",
       " ['Interest',\n",
       "  '0',\n",
       "  '0',\n",
       "  '0',\n",
       "  '0',\n",
       "  '0',\n",
       "  '0',\n",
       "  '27',\n",
       "  '28',\n",
       "  '28',\n",
       "  '31',\n",
       "  '31',\n",
       "  '31'],\n",
       " ['Depreciation',\n",
       "  '354',\n",
       "  '363',\n",
       "  '374',\n",
       "  '390',\n",
       "  '406',\n",
       "  '429',\n",
       "  '510',\n",
       "  '542',\n",
       "  '544',\n",
       "  '548',\n",
       "  '546',\n",
       "  '608'],\n",
       " ['Profit before tax',\n",
       "  '5922',\n",
       "  '4390',\n",
       "  '4782',\n",
       "  '5251',\n",
       "  '4942',\n",
       "  '4953',\n",
       "  '4821',\n",
       "  '5123',\n",
       "  '5405',\n",
       "  '5128',\n",
       "  '5378',\n",
       "  '6163'],\n",
       " ['Tax %',\n",
       "  '-1%',\n",
       "  '28%',\n",
       "  '27%',\n",
       "  '26%',\n",
       "  '29%',\n",
       "  '23%',\n",
       "  '26%',\n",
       "  '25%',\n",
       "  '25%',\n",
       "  '21%',\n",
       "  '25%',\n",
       "  '27%'],\n",
       " ['Net Profit',\n",
       "  '6004',\n",
       "  '3157',\n",
       "  '3503',\n",
       "  '3879',\n",
       "  '3501',\n",
       "  '3820',\n",
       "  '3569',\n",
       "  '3829',\n",
       "  '4076',\n",
       "  '4069',\n",
       "  '4008',\n",
       "  '4497'],\n",
       " ['EPS in Rs',\n",
       "  '13.75',\n",
       "  '7.23',\n",
       "  '8.02',\n",
       "  '8.88',\n",
       "  '8.01',\n",
       "  '8.74',\n",
       "  '8.17',\n",
       "  '8.99',\n",
       "  '9.57',\n",
       "  '9.55',\n",
       "  '9.41',\n",
       "  '10.56'],\n",
       " ['Notes',\n",
       "  'Notes',\n",
       "  'Notes',\n",
       "  'Notes',\n",
       "  'Notes',\n",
       "  'Notes',\n",
       "  'Notes',\n",
       "  'Notes',\n",
       "  'Notes',\n",
       "  'Notes',\n",
       "  'Notes',\n",
       "  'Notes']]"
      ]
     },
     "execution_count": 18,
     "metadata": {},
     "output_type": "execute_result"
    }
   ],
   "source": [
    "pAndL_section = page_content.find(\"section\",attrs={'id':\"profit-loss\"})\n",
    "pAndL_table = page_content.find(\"table\",attrs={'class':\"data-table\"})\n",
    "get_table_simple(pAndL_table, is_table_tag=True)"
   ]
  },
  {
   "cell_type": "code",
   "execution_count": null,
   "metadata": {},
   "outputs": [],
   "source": []
  }
 ],
 "metadata": {
  "kernelspec": {
   "display_name": "Python (fintech)",
   "language": "python",
   "name": "fintech"
  },
  "language_info": {
   "codemirror_mode": {
    "name": "ipython",
    "version": 3
   },
   "file_extension": ".py",
   "mimetype": "text/x-python",
   "name": "python",
   "nbconvert_exporter": "python",
   "pygments_lexer": "ipython3",
   "version": "3.8.5"
  }
 },
 "nbformat": 4,
 "nbformat_minor": 2
}
