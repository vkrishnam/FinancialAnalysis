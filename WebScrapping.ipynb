{
 "cells": [
  {
   "cell_type": "code",
   "execution_count": 1,
   "metadata": {},
   "outputs": [],
   "source": [
    "import numpy as np # linear algebra\n",
    "import pandas as pd # pandas for dataframe based data processing and CSV file I/O"
   ]
  },
  {
   "cell_type": "code",
   "execution_count": 2,
   "metadata": {},
   "outputs": [],
   "source": [
    "import requests # for http requests\n",
    "from bs4 import BeautifulSoup # for html parsing and scraping\n",
    "from fastnumbers import isfloat \n",
    "from fastnumbers import fast_float\n",
    "from multiprocessing.dummy import Pool as ThreadPool \n",
    "import bs4\n",
    "\n",
    "import matplotlib.pyplot as plt\n",
    "import seaborn as sns\n",
    "import json\n",
    "from tidylib import tidy_document # for tidying incorrect html\n",
    "\n",
    "sns.set_style('whitegrid')\n",
    "%matplotlib inline\n",
    "from IPython.core.interactiveshell import InteractiveShell\n",
    "InteractiveShell.ast_node_interactivity = \"all\""
   ]
  },
  {
   "cell_type": "code",
   "execution_count": 3,
   "metadata": {},
   "outputs": [],
   "source": [
    "\n",
    "\n",
    "def ffloat(string):\n",
    "    if string is None:\n",
    "        return np.nan\n",
    "    if type(string)==float or type(string)==np.float64:\n",
    "        return string\n",
    "    if type(string)==int or type(string)==np.int64:\n",
    "        return string\n",
    "    return fast_float(string.split(\" \")[0].replace(',','').replace('%',''),\n",
    "                      default=np.nan)\n",
    "\n",
    "def ffloat_list(string_list):\n",
    "    return list(map(ffloat,string_list))\n",
    "\n",
    "def remove_multiple_spaces(string):\n",
    "    if type(string)==str:\n",
    "        return ' '.join(string.split())\n",
    "    return string\n"
   ]
  },
  {
   "cell_type": "code",
   "execution_count": 4,
   "metadata": {},
   "outputs": [],
   "source": [
    "def request_with_check(url):\n",
    "    page_response = requests.get(url, timeout=240)\n",
    "    status = page_response.status_code\n",
    "    if status>299:\n",
    "        raise AssertionError(\"page content not found, status: %s\"%status)\n",
    "    return page_response"
   ]
  },
  {
   "cell_type": "code",
   "execution_count": 5,
   "metadata": {},
   "outputs": [],
   "source": [
    "from IPython.core.display import HTML"
   ]
  },
  {
   "cell_type": "markdown",
   "metadata": {},
   "source": [
    "page_response = requests.get(\"https://www.screener.in/company/INFY/\", timeout=240)\n",
    "page_content = BeautifulSoup(page_response.content, \"html.parser\")\n",
    "HTML(str(page_content.find(\"h1\")))\n",
    "#print(page_content)\n",
    "\n",
    "HTML(str(page_content.find(\"p\",attrs={'class':\"sub bigger\"})))\n",
    "#print(str(page_content.find(\"p\",attrs={'class':\"sub bigger\"})))\n",
    "HTML(str(page_content.find(\"li\",attrs={'class':\"four columns\"})))\n",
    "#print(str(page_content.find(\"li\",attrs={'class':\"four columns\"})))\n",
    "market_cap_info = page_content.find(\"li\",attrs={'class':\"four columns\"})\n",
    "#print(str(market_cap_info.find(\"b\")))\n",
    "\n",
    "#targetFile = open('page_content.txt', 'w')\n",
    "#targetFile.write(str(page_content))\n",
    "\n",
    "ratios_section = page_content.find(\"section\",attrs={'id':\"ratios\"})\n",
    "print(ratios_section.h2)"
   ]
  },
  {
   "cell_type": "code",
   "execution_count": 6,
   "metadata": {},
   "outputs": [
    {
     "data": {
      "text/html": [
       "<h1 class=\"margin-0\">Infosys Ltd</h1>"
      ],
      "text/plain": [
       "<IPython.core.display.HTML object>"
      ]
     },
     "execution_count": 6,
     "metadata": {},
     "output_type": "execute_result"
    },
    {
     "name": "stdout",
     "output_type": "stream",
     "text": [
      "472,423\n",
      "472,423 Cr.\n"
     ]
    }
   ],
   "source": [
    "page_response = requests.get(\"https://www.screener.in/company/INFY/\", timeout=240)\n",
    "page_content = BeautifulSoup(page_response.content, \"html.parser\")\n",
    "HTML(str(page_content.find(\"h1\")))\n",
    "#print(page_content)\n",
    "\n",
    "#HTML(str(page_content.find(\"div\",attrs={'class':\"company-profile-about\"}).find(\"p\")))\n",
    "#print(str(page_content.find(\"p\",attrs={'class':\"sub bigger\"})))\n",
    "#HTML(str(page_content.find(\"li\",attrs={'class':\"four columns\"})))\n",
    "#print(str(page_content.find(\"li\",attrs={'class':\"four columns\"})))\n",
    "market_cap_info = page_content.find(\"div\",attrs={'class':\"company-ratios\"}).find(\"span\",attrs={'class':\"nowrap value\"})#.find(\"span\",attrs={'class':\"number\"})\n",
    "print(market_cap_info.find(\"span\").string)\n",
    "\n",
    "#print(str(market_cap_info))\n",
    "#print(str(market_cap_info.find(\"span\")))\n",
    "\n",
    "#targetFile = open('page_content.txt', 'w')\n",
    "#targetFile.write(str(page_content))\n",
    "\n",
    "#ratios_section = page_content.find(\"section\",attrs={'id':\"ratios\"})\n",
    "#print(ratios_section.h2)\n",
    "\n",
    "\n",
    "tag_str = str(page_content.find(\"li\",attrs={'class':\"flex flex-space-between\"}))\n",
    "if \"Market Cap\" in tag_str:\n",
    "    marcap = BeautifulSoup(tag_str)\n",
    "    print(str(marcap.find(\"span\",attrs={'class':\"number\"}).string) + \" Cr.\")\n",
    "else:\n",
    "    print(\"hello\")"
   ]
  },
  {
   "cell_type": "code",
   "execution_count": 7,
   "metadata": {},
   "outputs": [],
   "source": [
    "#print(page_content)\n",
    "def findFullDescription_Screener(page_content):\n",
    "    tag = page_content.find(\"div\",attrs={'class':\"company-profile-about\"}).find(\"p\")\n",
    "    return tag.string\n",
    "\n",
    "def findMarketCap_Screener(page_content):\n",
    "    tag_str = str(page_content.find(\"li\",attrs={'class':\"flex flex-space-between\"}))\n",
    "    if \"Market Cap\" in tag_str:\n",
    "        marcap = BeautifulSoup(tag_str)\n",
    "        return (str(marcap.find(\"span\",attrs={'class':\"number\"}).string) + \" Cr.\")\n",
    "    else:\n",
    "        return \"O Cr.\"\n"
   ]
  },
  {
   "cell_type": "code",
   "execution_count": 8,
   "metadata": {},
   "outputs": [],
   "source": [
    "def get_table_simple(table,is_table_tag=True):\n",
    "    elems = table.find_all('tr') if is_table_tag else get_children(table)\n",
    "    table_data = list()\n",
    "    for row in elems:\n",
    "        \n",
    "        row_data = list()\n",
    "        row_elems = get_children(row)\n",
    "        for elem in row_elems:\n",
    "            text = elem.text.strip().replace(\"\\n\",\"\").replace(\",\",\"\")\n",
    "            text = remove_multiple_spaces(text)\n",
    "            if len(text)==0:\n",
    "                continue\n",
    "            row_data.append(text)\n",
    "        table_data.append(row_data)\n",
    "    return table_data\n",
    "    \n",
    "def get_children(html_content):\n",
    "    children = list()\n",
    "    for item in html_content.children:\n",
    "        if type(item)==bs4.element.Comment:\n",
    "            continue\n",
    "        if type(item)==bs4.element.Tag or len(str(item).replace(\"\\n\",\"\").strip())>0:\n",
    "            children.append(item)\n",
    "        \n",
    "    return children\n"
   ]
  },
  {
   "cell_type": "code",
   "execution_count": 9,
   "metadata": {},
   "outputs": [
    {
     "data": {
      "text/html": [
       "<h1 class=\"margin-0\">3M India Ltd</h1>"
      ],
      "text/plain": [
       "<IPython.core.display.HTML object>"
      ]
     },
     "execution_count": 9,
     "metadata": {},
     "output_type": "execute_result"
    }
   ],
   "source": [
    "page_response = requests.get(\"https://www.screener.in/company/3MINDIA/\", timeout=240)\n",
    "page_content = BeautifulSoup(page_response.content, \"html.parser\")\n",
    "HTML(str(page_content.find(\"h1\")))"
   ]
  },
  {
   "cell_type": "code",
   "execution_count": 10,
   "metadata": {},
   "outputs": [],
   "source": [
    "ratios_section = page_content.find(\"section\",attrs={'id':\"ratios\"})\n",
    "ratios_table = ratios_section.find(\"table\",attrs={'class':\"data-table\"})"
   ]
  },
  {
   "cell_type": "code",
   "execution_count": 11,
   "metadata": {},
   "outputs": [
    {
     "data": {
      "text/plain": [
       "[['Dec 2008',\n",
       "  'Mar 2010',\n",
       "  'Mar 2011',\n",
       "  'Mar 2012',\n",
       "  'Mar 2013',\n",
       "  'Mar 2014',\n",
       "  'Mar 2015',\n",
       "  'Mar 2016',\n",
       "  'Mar 2017',\n",
       "  'Mar 2018',\n",
       "  'Mar 2019',\n",
       "  'Mar 2020'],\n",
       " ['ROCE %',\n",
       "  '28%',\n",
       "  '36%',\n",
       "  '30%',\n",
       "  '16%',\n",
       "  '11%',\n",
       "  '10%',\n",
       "  '21%',\n",
       "  '34%',\n",
       "  '33%',\n",
       "  '35%',\n",
       "  '29%',\n",
       "  '16%'],\n",
       " ['Debtor Days',\n",
       "  '53',\n",
       "  '49',\n",
       "  '60',\n",
       "  '61',\n",
       "  '62',\n",
       "  '56',\n",
       "  '49',\n",
       "  '54',\n",
       "  '63',\n",
       "  '76',\n",
       "  '71',\n",
       "  '67'],\n",
       " ['Inventory Turnover',\n",
       "  '4.82',\n",
       "  '5.38',\n",
       "  '4.70',\n",
       "  '4.43',\n",
       "  '4.37',\n",
       "  '4.45',\n",
       "  '3.90',\n",
       "  '4.13',\n",
       "  '4.26',\n",
       "  '3.97',\n",
       "  '4.14',\n",
       "  '4.12']]"
      ]
     },
     "execution_count": 11,
     "metadata": {},
     "output_type": "execute_result"
    }
   ],
   "source": [
    "get_table_simple(ratios_table, is_table_tag=True)"
   ]
  },
  {
   "cell_type": "code",
   "execution_count": 12,
   "metadata": {},
   "outputs": [
    {
     "data": {
      "text/plain": [
       "46949"
      ]
     },
     "execution_count": 12,
     "metadata": {},
     "output_type": "execute_result"
    }
   ],
   "source": [
    "targetFile = open('page_content.txt', 'w')\n",
    "targetFile.write(str(page_content))\n",
    "\n",
    "#print(page_content)"
   ]
  },
  {
   "cell_type": "code",
   "execution_count": 13,
   "metadata": {},
   "outputs": [
    {
     "data": {
      "text/plain": [
       "[['Dec 2008',\n",
       "  'Mar 2010',\n",
       "  'Mar 2011',\n",
       "  'Mar 2012',\n",
       "  'Mar 2013',\n",
       "  'Mar 2014',\n",
       "  'Mar 2015',\n",
       "  'Mar 2016',\n",
       "  'Mar 2017',\n",
       "  'Mar 2018',\n",
       "  'Mar 2019',\n",
       "  'Mar 2020',\n",
       "  'TTM'],\n",
       " ['Sales +',\n",
       "  '742',\n",
       "  '1087',\n",
       "  '1191',\n",
       "  '1405',\n",
       "  '1574',\n",
       "  '1742',\n",
       "  '1840',\n",
       "  '2140',\n",
       "  '2363',\n",
       "  '2556',\n",
       "  '2809',\n",
       "  '2765',\n",
       "  '2342'],\n",
       " ['Expenses +',\n",
       "  '654',\n",
       "  '948',\n",
       "  '1035',\n",
       "  '1283',\n",
       "  '1463',\n",
       "  '1630',\n",
       "  '1636',\n",
       "  '1803',\n",
       "  '1994',\n",
       "  '2076',\n",
       "  '2301',\n",
       "  '2425',\n",
       "  '2188'],\n",
       " ['Operating Profit',\n",
       "  '88',\n",
       "  '138',\n",
       "  '156',\n",
       "  '122',\n",
       "  '112',\n",
       "  '112',\n",
       "  '204',\n",
       "  '337',\n",
       "  '369',\n",
       "  '480',\n",
       "  '508',\n",
       "  '340',\n",
       "  '154'],\n",
       " ['OPM %',\n",
       "  '12%',\n",
       "  '13%',\n",
       "  '13%',\n",
       "  '9%',\n",
       "  '7%',\n",
       "  '6%',\n",
       "  '11%',\n",
       "  '16%',\n",
       "  '16%',\n",
       "  '19%',\n",
       "  '18%',\n",
       "  '12%',\n",
       "  '7%'],\n",
       " ['Other Income',\n",
       "  '11',\n",
       "  '20',\n",
       "  '11',\n",
       "  '5',\n",
       "  '10',\n",
       "  '19',\n",
       "  '14',\n",
       "  '18',\n",
       "  '49',\n",
       "  '44',\n",
       "  '33',\n",
       "  '42',\n",
       "  '42'],\n",
       " ['Interest',\n",
       "  '0',\n",
       "  '1',\n",
       "  '2',\n",
       "  '4',\n",
       "  '10',\n",
       "  '15',\n",
       "  '4',\n",
       "  '2',\n",
       "  '2',\n",
       "  '2',\n",
       "  '1',\n",
       "  '4',\n",
       "  '4'],\n",
       " ['Depreciation',\n",
       "  '7',\n",
       "  '17',\n",
       "  '17',\n",
       "  '27',\n",
       "  '36',\n",
       "  '48',\n",
       "  '50',\n",
       "  '49',\n",
       "  '47',\n",
       "  '42',\n",
       "  '42',\n",
       "  '57',\n",
       "  '57'],\n",
       " ['Profit before tax',\n",
       "  '91',\n",
       "  '141',\n",
       "  '148',\n",
       "  '96',\n",
       "  '75',\n",
       "  '69',\n",
       "  '165',\n",
       "  '303',\n",
       "  '369',\n",
       "  '480',\n",
       "  '497',\n",
       "  '320',\n",
       "  '135'],\n",
       " ['Tax %',\n",
       "  '37%',\n",
       "  '34%',\n",
       "  '33%',\n",
       "  '33%',\n",
       "  '30%',\n",
       "  '38%',\n",
       "  '34%',\n",
       "  '36%',\n",
       "  '35%',\n",
       "  '35%',\n",
       "  '35%',\n",
       "  '32%'],\n",
       " ['Net Profit',\n",
       "  '57',\n",
       "  '93',\n",
       "  '99',\n",
       "  '65',\n",
       "  '52',\n",
       "  '43',\n",
       "  '108',\n",
       "  '195',\n",
       "  '241',\n",
       "  '311',\n",
       "  '323',\n",
       "  '219',\n",
       "  '94'],\n",
       " ['EPS in Rs',\n",
       "  '50.98',\n",
       "  '65.90',\n",
       "  '87.67',\n",
       "  '57.47',\n",
       "  '46.40',\n",
       "  '38.16',\n",
       "  '96.17',\n",
       "  '172.89',\n",
       "  '213.72',\n",
       "  '275.66',\n",
       "  '286.72',\n",
       "  '194.38',\n",
       "  '83.58'],\n",
       " ['Dividend Payout %',\n",
       "  '0%',\n",
       "  '0%',\n",
       "  '0%',\n",
       "  '0%',\n",
       "  '0%',\n",
       "  '0%',\n",
       "  '0%',\n",
       "  '0%',\n",
       "  '0%',\n",
       "  '0%',\n",
       "  '0%',\n",
       "  '0%']]"
      ]
     },
     "execution_count": 13,
     "metadata": {},
     "output_type": "execute_result"
    }
   ],
   "source": [
    "pAndL_section = page_content.find(\"section\",attrs={'id':\"profit-loss\"})\n",
    "pAndL_table = pAndL_section.find(\"table\",attrs={'class':\"data-table\"})\n",
    "get_table_simple(pAndL_table, is_table_tag=True)"
   ]
  },
  {
   "cell_type": "code",
   "execution_count": null,
   "metadata": {},
   "outputs": [],
   "source": []
  }
 ],
 "metadata": {
  "kernelspec": {
   "display_name": "Python (fintech)",
   "language": "python",
   "name": "fintech"
  },
  "language_info": {
   "codemirror_mode": {
    "name": "ipython",
    "version": 3
   },
   "file_extension": ".py",
   "mimetype": "text/x-python",
   "name": "python",
   "nbconvert_exporter": "python",
   "pygments_lexer": "ipython3",
   "version": "3.8.5"
  }
 },
 "nbformat": 4,
 "nbformat_minor": 2
}
