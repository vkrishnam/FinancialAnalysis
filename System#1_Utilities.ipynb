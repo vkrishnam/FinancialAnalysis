{
 "cells": [
  {
   "cell_type": "code",
   "execution_count": 20,
   "metadata": {},
   "outputs": [
    {
     "name": "stdout",
     "output_type": "stream",
     "text": [
      "              Close\n",
      "Date               \n",
      "2019-11-25  1380.85\n",
      "2019-11-26  1363.00\n",
      "2019-11-27  1335.50\n",
      "2019-11-28  1349.90\n",
      "2019-11-29  1330.55\n",
      "...             ...\n",
      "2020-11-17  1080.90\n",
      "2020-11-18  1148.15\n",
      "2020-11-19  1134.25\n",
      "2020-11-20  1132.30\n",
      "2020-11-23  1125.85\n",
      "\n",
      "[252 rows x 1 columns]\n"
     ]
    }
   ],
   "source": [
    "import pandas as pd\n",
    "from nsepy import get_history \n",
    "from datetime import date\n",
    "from datetime import *; from dateutil.relativedelta import *\n",
    "import calendar\n",
    "import pprint\n",
    "end = today = date.today()\n",
    "start = today+relativedelta(months=-12)\n",
    "#start=date(2019,7,1)\n",
    "#end=date(2019,7,9)\n",
    "data = get_history(symbol=\"LT\", start=start, end=end )\n",
    "print(data[['Close']])"
   ]
  },
  {
   "cell_type": "code",
   "execution_count": 21,
   "metadata": {},
   "outputs": [
    {
     "name": "stdout",
     "output_type": "stream",
     "text": [
      "           Symbol Series  Prev Close     Open    High      Low    Last  \\\n",
      "Date                                                                     \n",
      "2019-11-25     LT     EQ     1378.65  1378.50  1389.0  1371.10  1384.4   \n",
      "2019-11-26     LT     EQ     1380.85  1379.35  1380.0  1359.55  1364.0   \n",
      "2019-11-27     LT     EQ     1363.00  1365.00  1370.0  1314.15  1339.1   \n",
      "\n",
      "              Close     VWAP   Volume      Turnover  Trades  \\\n",
      "Date                                                          \n",
      "2019-11-25  1380.85  1380.96  2956576  4.082916e+14  101997   \n",
      "2019-11-26  1363.00  1367.67  4853977  6.638628e+14  166887   \n",
      "2019-11-27  1335.50  1333.73  7904745  1.054279e+15  274871   \n",
      "\n",
      "            Deliverable Volume  %Deliverble  \n",
      "Date                                         \n",
      "2019-11-25             1668153       0.5642  \n",
      "2019-11-26             3310521       0.6820  \n",
      "2019-11-27             4525989       0.5726  \n"
     ]
    }
   ],
   "source": [
    "print(data.head(3))"
   ]
  },
  {
   "cell_type": "code",
   "execution_count": 22,
   "metadata": {},
   "outputs": [
    {
     "name": "stdout",
     "output_type": "stream",
     "text": [
      "               Open     High      Low    Close    Volume\n",
      "Date                                                    \n",
      "2019-11-25  1378.50  1389.00  1371.10  1380.85   2956576\n",
      "2019-11-26  1379.35  1380.00  1359.55  1363.00   4853977\n",
      "2019-11-27  1365.00  1370.00  1314.15  1335.50   7904745\n",
      "2019-11-28  1344.00  1354.00  1327.20  1349.90   4503913\n",
      "2019-11-29  1350.00  1350.20  1328.00  1330.55   2515083\n",
      "...             ...      ...      ...      ...       ...\n",
      "2020-11-17  1063.00  1096.85  1061.05  1080.90   7611327\n",
      "2020-11-18  1080.90  1154.25  1079.15  1148.15  13436421\n",
      "2020-11-19  1125.05  1177.00  1107.70  1134.25  10841151\n",
      "2020-11-20  1140.00  1161.00  1118.50  1132.30   7009257\n",
      "2020-11-23  1138.80  1147.85  1122.85  1125.85   4998877\n",
      "\n",
      "[252 rows x 5 columns]\n"
     ]
    }
   ],
   "source": [
    "wdata = data.drop(['Symbol', 'Series', 'Prev Close', 'Last', 'VWAP', 'Turnover', 'Trades', 'Deliverable Volume', '%Deliverble'], axis = 1)\n",
    "print(wdata)"
   ]
  },
  {
   "cell_type": "code",
   "execution_count": 26,
   "metadata": {},
   "outputs": [
    {
     "name": "stdout",
     "output_type": "stream",
     "text": [
      "Close    956.095\n",
      "dtype: float64\n"
     ]
    }
   ],
   "source": [
    "\n",
    "\n",
    "agg_dict = {'Open': 'first',\n",
    "            'High': 'max',\n",
    "            'Low': 'min',\n",
    "            'Close': 'last',\n",
    "            'Volume': 'mean'}\n",
    "\n",
    "wdata.index = pd.to_datetime(wdata.index)\n",
    "r_df = wdata.resample('W').agg(agg_dict)\n",
    "print(r_df.tail(20)[['Close']].mean())"
   ]
  },
  {
   "cell_type": "code",
   "execution_count": 27,
   "metadata": {},
   "outputs": [
    {
     "name": "stdout",
     "output_type": "stream",
     "text": [
      "956.0949999999999\n"
     ]
    }
   ],
   "source": [
    "print((float)(r_df.tail(20)[['Close']].mean()))"
   ]
  },
  {
   "cell_type": "code",
   "execution_count": null,
   "metadata": {},
   "outputs": [],
   "source": []
  }
 ],
 "metadata": {
  "kernelspec": {
   "display_name": "Python (fintech)",
   "language": "python",
   "name": "fintech"
  },
  "language_info": {
   "codemirror_mode": {
    "name": "ipython",
    "version": 3
   },
   "file_extension": ".py",
   "mimetype": "text/x-python",
   "name": "python",
   "nbconvert_exporter": "python",
   "pygments_lexer": "ipython3",
   "version": "3.8.5"
  }
 },
 "nbformat": 4,
 "nbformat_minor": 4
}
